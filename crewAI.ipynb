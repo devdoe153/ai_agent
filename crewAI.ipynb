{
 "cells": [
  {
   "cell_type": "code",
   "execution_count": 3,
   "metadata": {},
   "outputs": [],
   "source": [
    "!pip install -q crewai crewai-tools  python-dotenv"
   ]
  },
  {
   "cell_type": "markdown",
   "metadata": {},
   "source": [
    "### Agent 정의"
   ]
  },
  {
   "cell_type": "code",
   "execution_count": 5,
   "metadata": {},
   "outputs": [],
   "source": [
    "from crewai import Agent, Task, Crew\n",
    "from langchain_openai import ChatOpenAI\n",
    "import os\n",
    "from dotenv import load_dotenv, dotenv_values\n",
    "\n",
    "\n",
    "config = dotenv_values(\".env\")\n",
    "os.environ.update(config)\n",
    "\n",
    "load_dotenv()\n",
    "openai_api_key = os.getenv(\"OPENAI_API_KEY\")\n",
    "\n",
    "# 목차 설정 에이전트\n",
    "outline_generator = Agent(\n",
    "    role='Outline Generator',\n",
    "    goal='Create structured outlines for articles on given topics. answer in korean',\n",
    "    llm=ChatOpenAI(model=\"gpt-4o-mini\", max_tokens=1000),\n",
    "    backstory=\"You are an expert at organizing information and creating comprehensive outlines for various subjects.\"\n",
    ")\n",
    "\n",
    "#본문 작성 에이전트\n",
    "writer = Agent(\n",
    "    role='Writer',\n",
    "    goal='Create engaging content based on research. answer in Korean',\n",
    "    llm=ChatOpenAI(model=\"gpt-4o\", max_tokens=3000),\n",
    "    backstory=\"You are a skilled writer who can transform complex information into readable content.\"\n",
    ")\n",
    "\n",
    "\n"
   ]
  },
  {
   "cell_type": "markdown",
   "metadata": {},
   "source": [
    "### Task 정의"
   ]
  },
  {
   "cell_type": "code",
   "execution_count": 9,
   "metadata": {},
   "outputs": [],
   "source": [
    "outline_task = Task(\n",
    "    description='Create a detailed outline for an article about AI\\'s impact on job markets',\n",
    "    agent=outline_generator,\n",
    "    expected_output=\"\"\"A comprehensive outline covering the main aspects of AI\\'Agent\n",
    "    influence on employment\"\"\" \n",
    ")\n",
    "\n",
    "writing_task = Task(\n",
    "    description='Write an article about the findings from the research',\n",
    "    agent=writer,\n",
    "    expected_output='An engaging article discussing AI\\'s influence on job markets'\n",
    ")\n"
   ]
  },
  {
   "cell_type": "markdown",
   "metadata": {},
   "source": [
    "###Crea 정의"
   ]
  },
  {
   "cell_type": "code",
   "execution_count": 10,
   "metadata": {},
   "outputs": [],
   "source": [
    "ai_impact_crew = Crew(\n",
    "    agents=[outline_generator, writer],\n",
    "    tasks=[outline_task, writing_task],\n",
    "    verbose=True\n",
    ")"
   ]
  },
  {
   "cell_type": "code",
   "execution_count": 11,
   "metadata": {},
   "outputs": [
    {
     "name": "stdout",
     "output_type": "stream",
     "text": [
      "\u001b[1m\u001b[95m# Agent:\u001b[00m \u001b[1m\u001b[92mOutline Generator\u001b[00m\n",
      "\u001b[95m## Task:\u001b[00m \u001b[92mCreate a detailed outline for an article about AI's impact on job markets\u001b[00m\n",
      "\n",
      "\n",
      "\u001b[1m\u001b[95m# Agent:\u001b[00m \u001b[1m\u001b[92mOutline Generator\u001b[00m\n",
      "\u001b[95m## Final Answer:\u001b[00m \u001b[92m\n",
      "**Title: AI's Impact on Job Markets: A Comprehensive Analysis**\n",
      "\n",
      "**I. Introduction**  \n",
      "   A. Definition of Artificial Intelligence (AI)  \n",
      "   B. Overview of the evolving job market  \n",
      "   C. Importance of understanding AI's impact on employment\n",
      "\n",
      "**II. Historical Context**  \n",
      "   A. Previous technological advancements and their effects on jobs  \n",
      "      1. Industrial Revolution  \n",
      "      2. The rise of computers and automation  \n",
      "   B. Comparison of historical changes with current AI developments  \n",
      "\n",
      "**III. Mechanisms of AI Integration into the Job Market**  \n",
      "   A. Types of AI technologies affecting jobs  \n",
      "      1. Machine Learning  \n",
      "      2. Natural Language Processing  \n",
      "      3. Robotics  \n",
      "   B. Industries most affected by AI  \n",
      "      1. Manufacturing  \n",
      "      2. Healthcare  \n",
      "      3. Finance  \n",
      "      4. Customer Service  \n",
      "\n",
      "**IV. Positive Impacts of AI on Employment**  \n",
      "   A. Job creation in new sectors  \n",
      "      1. AI development and maintenance  \n",
      "      2. Data analysis and interpretation  \n",
      "   B. Enhanced productivity and efficiency  \n",
      "      1. Automation of mundane tasks  \n",
      "      2. Focus on creative and strategic roles  \n",
      "   C. Reskilling and upskilling opportunities  \n",
      "      1. Lifelong learning initiatives  \n",
      "      2. Corporate training programs  \n",
      "\n",
      "**V. Negative Impacts of AI on Employment**  \n",
      "   A. Job displacement and unemployment  \n",
      "      1. Automation of low-skill jobs  \n",
      "      2. Case studies of affected industries  \n",
      "   B. Wage disparity and job polarization  \n",
      "      1. High-skill vs. low-skill job divide  \n",
      "      2. Economic inequality concerns  \n",
      "   C. Psychological and social effects  \n",
      "      1. Job insecurity  \n",
      "      2. Changes in workforce dynamics  \n",
      "\n",
      "**VI. Future Outlook**  \n",
      "   A. Predictions for AI's role in the job market  \n",
      "      1. Continued growth of AI technologies  \n",
      "      2. Potential for new job categories  \n",
      "   B. Importance of policy and regulation  \n",
      "      1. Government role in workforce transition  \n",
      "      2. Business responsibility in ethical AI deployment  \n",
      "\n",
      "**VII. Conclusion**  \n",
      "   A. Summary of key points  \n",
      "   B. Call for proactive measures to harness AI’s benefits while mitigating its challenges  \n",
      "   C. Final thoughts on the future of work in the age of AI  \n",
      "\n",
      "**VIII. References**  \n",
      "   A. Academic articles and studies  \n",
      "   B. Industry reports on AI and employment  \n",
      "   C. Books and publications on technological advancements and job markets  \n",
      "\n",
      "This outline provides a comprehensive framework for an article discussing the multifaceted impact of AI on job markets, addressing both the opportunities and challenges presented by this technology.\u001b[00m\n",
      "\n",
      "\n",
      "\u001b[1m\u001b[95m# Agent:\u001b[00m \u001b[1m\u001b[92mWriter\u001b[00m\n",
      "\u001b[95m## Task:\u001b[00m \u001b[92mWrite an article about the findings from the research\u001b[00m\n",
      "\n",
      "\n",
      "\u001b[1m\u001b[95m# Agent:\u001b[00m \u001b[1m\u001b[92mWriter\u001b[00m\n",
      "\u001b[95m## Final Answer:\u001b[00m \u001b[92m\n",
      "**AI의 고용시장 영향: 종합 분석**\n",
      "\n",
      "**I. 서론**  \n",
      "인공지능(AI)은 인간의 인지 능력을 모방하여 문제를 해결하고 결정을 내리는 시스템으로 정의됩니다. 최근 몇 년 동안 고용 시장은 기술 발전과 글로벌화 등으로 급변하고 있습니다. 이러한 변화 속에서 AI가 고용에 미치는 영향을 이해하는 것은 매우 중요합니다.\n",
      "\n",
      "**II. 역사적 맥락**  \n",
      "기술 혁신은 항상 고용에 큰 변화를 가져왔습니다. 산업혁명은 대량 생산을 가능하게 하여 많은 공장 일자리를 창출했지만 동시에 전통적인 수공업 일자리를 감소시켰습니다. 컴퓨터와 자동화의 등장은 데이터 처리와 사무직의 혁신을 가져왔습니다. 이러한 역사적 변화를 현재의 AI 발전과 비교해보면, AI는 이전의 기술 변화보다 더 광범위하고 빠르게 고용 시장에 영향을 미치고 있습니다.\n",
      "\n",
      "**III. AI의 고용시장 통합 메커니즘**  \n",
      "AI 기술은 여러 산업에 걸쳐 고용에 영향을 미치고 있습니다. 머신러닝, 자연어 처리, 로봇 공학은 대표적인 AI 기술로, 제조업, 헬스케어, 금융, 고객 서비스 등 다양한 산업에서 변화의 중심에 있습니다.\n",
      "\n",
      "**IV. AI가 고용에 미치는 긍정적 영향**  \n",
      "AI는 새로운 부문에서 일자리를 창출하고 있습니다. AI 개발 및 유지보수, 데이터 분석 및 해석과 같은 분야가 대표적입니다. 또한 AI는 반복적인 작업을 자동화하여 생산성을 향상시키고 창의적이고 전략적인 역할에 집중할 수 있는 기회를 제공합니다. 이러한 변화는 평생 교육 및 기업 교육 프로그램을 통해 재교육과 기술 향상의 기회를 제공합니다.\n",
      "\n",
      "**V. AI가 고용에 미치는 부정적 영향**  \n",
      "AI는 저숙련 직업의 자동화를 통해 일자리 대체와 실업 문제를 야기할 수 있습니다. 이는 특히 제조업과 같은 산업에서 두드러집니다. 또한, AI는 고숙련과 저숙련 직업 간의 임금 격차와 경제적 불평등을 심화시킬 수 있습니다. 이러한 변화는 직업 불안정과 사회적 역학의 변화를 초래할 수 있습니다.\n",
      "\n",
      "**VI. 미래 전망**  \n",
      "AI가 고용 시장에서 어떤 역할을 할 것인지에 대한 예측은 계속되고 있습니다. AI 기술의 지속적인 성장은 새로운 직업 카테고리의 등장을 가능하게 할 것입니다. 이 과정에서 정책과 규제의 중요성이 대두되고 있으며, 정부는 노동력 전환을 지원하고 기업은 윤리적인 AI 배치를 책임져야 합니다.\n",
      "\n",
      "**VII. 결론**  \n",
      "AI가 고용시장에 미치는 영향은 다면적이며, 기회와 도전 과제를 동시에 제공합니다. 이러한 변화를 효과적으로 활용하기 위해서는 선제적인 조치가 필요합니다. AI 시대의 미래 노동 환경에 대한 긍정적인 전망을 갖기 위해 우리는 AI의 이점을 활용하면서 그로 인한 도전 과제를 완화해야 합니다.\n",
      "\n",
      "**VIII. 참고문헌**  \n",
      "이 글에서는 AI와 고용에 관한 학술 논문 및 연구, 산업 보고서, 기술 발전과 고용 시장에 대한 서적 및 출판물을 참고하였습니다.\u001b[00m\n",
      "\n",
      "\n"
     ]
    },
    {
     "data": {
      "text/plain": [
       "CrewOutput(raw='**AI의 고용시장 영향: 종합 분석**\\n\\n**I. 서론**  \\n인공지능(AI)은 인간의 인지 능력을 모방하여 문제를 해결하고 결정을 내리는 시스템으로 정의됩니다. 최근 몇 년 동안 고용 시장은 기술 발전과 글로벌화 등으로 급변하고 있습니다. 이러한 변화 속에서 AI가 고용에 미치는 영향을 이해하는 것은 매우 중요합니다.\\n\\n**II. 역사적 맥락**  \\n기술 혁신은 항상 고용에 큰 변화를 가져왔습니다. 산업혁명은 대량 생산을 가능하게 하여 많은 공장 일자리를 창출했지만 동시에 전통적인 수공업 일자리를 감소시켰습니다. 컴퓨터와 자동화의 등장은 데이터 처리와 사무직의 혁신을 가져왔습니다. 이러한 역사적 변화를 현재의 AI 발전과 비교해보면, AI는 이전의 기술 변화보다 더 광범위하고 빠르게 고용 시장에 영향을 미치고 있습니다.\\n\\n**III. AI의 고용시장 통합 메커니즘**  \\nAI 기술은 여러 산업에 걸쳐 고용에 영향을 미치고 있습니다. 머신러닝, 자연어 처리, 로봇 공학은 대표적인 AI 기술로, 제조업, 헬스케어, 금융, 고객 서비스 등 다양한 산업에서 변화의 중심에 있습니다.\\n\\n**IV. AI가 고용에 미치는 긍정적 영향**  \\nAI는 새로운 부문에서 일자리를 창출하고 있습니다. AI 개발 및 유지보수, 데이터 분석 및 해석과 같은 분야가 대표적입니다. 또한 AI는 반복적인 작업을 자동화하여 생산성을 향상시키고 창의적이고 전략적인 역할에 집중할 수 있는 기회를 제공합니다. 이러한 변화는 평생 교육 및 기업 교육 프로그램을 통해 재교육과 기술 향상의 기회를 제공합니다.\\n\\n**V. AI가 고용에 미치는 부정적 영향**  \\nAI는 저숙련 직업의 자동화를 통해 일자리 대체와 실업 문제를 야기할 수 있습니다. 이는 특히 제조업과 같은 산업에서 두드러집니다. 또한, AI는 고숙련과 저숙련 직업 간의 임금 격차와 경제적 불평등을 심화시킬 수 있습니다. 이러한 변화는 직업 불안정과 사회적 역학의 변화를 초래할 수 있습니다.\\n\\n**VI. 미래 전망**  \\nAI가 고용 시장에서 어떤 역할을 할 것인지에 대한 예측은 계속되고 있습니다. AI 기술의 지속적인 성장은 새로운 직업 카테고리의 등장을 가능하게 할 것입니다. 이 과정에서 정책과 규제의 중요성이 대두되고 있으며, 정부는 노동력 전환을 지원하고 기업은 윤리적인 AI 배치를 책임져야 합니다.\\n\\n**VII. 결론**  \\nAI가 고용시장에 미치는 영향은 다면적이며, 기회와 도전 과제를 동시에 제공합니다. 이러한 변화를 효과적으로 활용하기 위해서는 선제적인 조치가 필요합니다. AI 시대의 미래 노동 환경에 대한 긍정적인 전망을 갖기 위해 우리는 AI의 이점을 활용하면서 그로 인한 도전 과제를 완화해야 합니다.\\n\\n**VIII. 참고문헌**  \\n이 글에서는 AI와 고용에 관한 학술 논문 및 연구, 산업 보고서, 기술 발전과 고용 시장에 대한 서적 및 출판물을 참고하였습니다.', pydantic=None, json_dict=None, tasks_output=[TaskOutput(description=\"Create a detailed outline for an article about AI's impact on job markets\", name=None, expected_output=\"A comprehensive outline covering the main aspects of AI'Agent\\n    influence on employment\", summary=\"Create a detailed outline for an article about AI's impact...\", raw=\"**Title: AI's Impact on Job Markets: A Comprehensive Analysis**\\n\\n**I. Introduction**  \\n   A. Definition of Artificial Intelligence (AI)  \\n   B. Overview of the evolving job market  \\n   C. Importance of understanding AI's impact on employment\\n\\n**II. Historical Context**  \\n   A. Previous technological advancements and their effects on jobs  \\n      1. Industrial Revolution  \\n      2. The rise of computers and automation  \\n   B. Comparison of historical changes with current AI developments  \\n\\n**III. Mechanisms of AI Integration into the Job Market**  \\n   A. Types of AI technologies affecting jobs  \\n      1. Machine Learning  \\n      2. Natural Language Processing  \\n      3. Robotics  \\n   B. Industries most affected by AI  \\n      1. Manufacturing  \\n      2. Healthcare  \\n      3. Finance  \\n      4. Customer Service  \\n\\n**IV. Positive Impacts of AI on Employment**  \\n   A. Job creation in new sectors  \\n      1. AI development and maintenance  \\n      2. Data analysis and interpretation  \\n   B. Enhanced productivity and efficiency  \\n      1. Automation of mundane tasks  \\n      2. Focus on creative and strategic roles  \\n   C. Reskilling and upskilling opportunities  \\n      1. Lifelong learning initiatives  \\n      2. Corporate training programs  \\n\\n**V. Negative Impacts of AI on Employment**  \\n   A. Job displacement and unemployment  \\n      1. Automation of low-skill jobs  \\n      2. Case studies of affected industries  \\n   B. Wage disparity and job polarization  \\n      1. High-skill vs. low-skill job divide  \\n      2. Economic inequality concerns  \\n   C. Psychological and social effects  \\n      1. Job insecurity  \\n      2. Changes in workforce dynamics  \\n\\n**VI. Future Outlook**  \\n   A. Predictions for AI's role in the job market  \\n      1. Continued growth of AI technologies  \\n      2. Potential for new job categories  \\n   B. Importance of policy and regulation  \\n      1. Government role in workforce transition  \\n      2. Business responsibility in ethical AI deployment  \\n\\n**VII. Conclusion**  \\n   A. Summary of key points  \\n   B. Call for proactive measures to harness AI’s benefits while mitigating its challenges  \\n   C. Final thoughts on the future of work in the age of AI  \\n\\n**VIII. References**  \\n   A. Academic articles and studies  \\n   B. Industry reports on AI and employment  \\n   C. Books and publications on technological advancements and job markets  \\n\\nThis outline provides a comprehensive framework for an article discussing the multifaceted impact of AI on job markets, addressing both the opportunities and challenges presented by this technology.\", pydantic=None, json_dict=None, agent='Outline Generator', output_format=<OutputFormat.RAW: 'raw'>), TaskOutput(description='Write an article about the findings from the research', name=None, expected_output=\"An engaging article discussing AI's influence on job markets\", summary='Write an article about the findings from the research...', raw='**AI의 고용시장 영향: 종합 분석**\\n\\n**I. 서론**  \\n인공지능(AI)은 인간의 인지 능력을 모방하여 문제를 해결하고 결정을 내리는 시스템으로 정의됩니다. 최근 몇 년 동안 고용 시장은 기술 발전과 글로벌화 등으로 급변하고 있습니다. 이러한 변화 속에서 AI가 고용에 미치는 영향을 이해하는 것은 매우 중요합니다.\\n\\n**II. 역사적 맥락**  \\n기술 혁신은 항상 고용에 큰 변화를 가져왔습니다. 산업혁명은 대량 생산을 가능하게 하여 많은 공장 일자리를 창출했지만 동시에 전통적인 수공업 일자리를 감소시켰습니다. 컴퓨터와 자동화의 등장은 데이터 처리와 사무직의 혁신을 가져왔습니다. 이러한 역사적 변화를 현재의 AI 발전과 비교해보면, AI는 이전의 기술 변화보다 더 광범위하고 빠르게 고용 시장에 영향을 미치고 있습니다.\\n\\n**III. AI의 고용시장 통합 메커니즘**  \\nAI 기술은 여러 산업에 걸쳐 고용에 영향을 미치고 있습니다. 머신러닝, 자연어 처리, 로봇 공학은 대표적인 AI 기술로, 제조업, 헬스케어, 금융, 고객 서비스 등 다양한 산업에서 변화의 중심에 있습니다.\\n\\n**IV. AI가 고용에 미치는 긍정적 영향**  \\nAI는 새로운 부문에서 일자리를 창출하고 있습니다. AI 개발 및 유지보수, 데이터 분석 및 해석과 같은 분야가 대표적입니다. 또한 AI는 반복적인 작업을 자동화하여 생산성을 향상시키고 창의적이고 전략적인 역할에 집중할 수 있는 기회를 제공합니다. 이러한 변화는 평생 교육 및 기업 교육 프로그램을 통해 재교육과 기술 향상의 기회를 제공합니다.\\n\\n**V. AI가 고용에 미치는 부정적 영향**  \\nAI는 저숙련 직업의 자동화를 통해 일자리 대체와 실업 문제를 야기할 수 있습니다. 이는 특히 제조업과 같은 산업에서 두드러집니다. 또한, AI는 고숙련과 저숙련 직업 간의 임금 격차와 경제적 불평등을 심화시킬 수 있습니다. 이러한 변화는 직업 불안정과 사회적 역학의 변화를 초래할 수 있습니다.\\n\\n**VI. 미래 전망**  \\nAI가 고용 시장에서 어떤 역할을 할 것인지에 대한 예측은 계속되고 있습니다. AI 기술의 지속적인 성장은 새로운 직업 카테고리의 등장을 가능하게 할 것입니다. 이 과정에서 정책과 규제의 중요성이 대두되고 있으며, 정부는 노동력 전환을 지원하고 기업은 윤리적인 AI 배치를 책임져야 합니다.\\n\\n**VII. 결론**  \\nAI가 고용시장에 미치는 영향은 다면적이며, 기회와 도전 과제를 동시에 제공합니다. 이러한 변화를 효과적으로 활용하기 위해서는 선제적인 조치가 필요합니다. AI 시대의 미래 노동 환경에 대한 긍정적인 전망을 갖기 위해 우리는 AI의 이점을 활용하면서 그로 인한 도전 과제를 완화해야 합니다.\\n\\n**VIII. 참고문헌**  \\n이 글에서는 AI와 고용에 관한 학술 논문 및 연구, 산업 보고서, 기술 발전과 고용 시장에 대한 서적 및 출판물을 참고하였습니다.', pydantic=None, json_dict=None, agent='Writer', output_format=<OutputFormat.RAW: 'raw'>)], token_usage=UsageMetrics(total_tokens=2261, prompt_tokens=952, cached_prompt_tokens=0, completion_tokens=1309, successful_requests=2))"
      ]
     },
     "execution_count": 11,
     "metadata": {},
     "output_type": "execute_result"
    }
   ],
   "source": [
    "result=ai_impact_crew.kickoff()\n",
    "\n",
    "result"
   ]
  },
  {
   "cell_type": "code",
   "execution_count": 12,
   "metadata": {},
   "outputs": [
    {
     "name": "stderr",
     "output_type": "stream",
     "text": [
      "Overriding of current TracerProvider is not allowed\n"
     ]
    }
   ],
   "source": [
    "from crewai.process import Process\n",
    "\n",
    "ai_impact_crew = Crew(\n",
    "    agents=[outline_generator, writer],\n",
    "    tasks=[outline_task, writing_task],\n",
    "    verbose=True,\n",
    "    Process=Process.sequential\n",
    ")"
   ]
  },
  {
   "cell_type": "code",
   "execution_count": 13,
   "metadata": {},
   "outputs": [
    {
     "name": "stdout",
     "output_type": "stream",
     "text": [
      "\u001b[1m\u001b[95m# Agent:\u001b[00m \u001b[1m\u001b[92mOutline Generator\u001b[00m\n",
      "\u001b[95m## Task:\u001b[00m \u001b[92mCreate a detailed outline for an article about AI's impact on job markets\u001b[00m\n",
      "\n",
      "\n",
      "\u001b[1m\u001b[95m# Agent:\u001b[00m \u001b[1m\u001b[92mOutline Generator\u001b[00m\n",
      "\u001b[95m## Final Answer:\u001b[00m \u001b[92m\n",
      "**I. 서론**  \n",
      "   A. 인공지능(AI)의 정의  \n",
      "   B. AI의 발전 배경  \n",
      "   C. 주제 소개: AI가 고용 시장에 미치는 영향  \n",
      "\n",
      "**II. AI의 기술 발전과 고용 시장의 변화**  \n",
      "   A. AI 기술의 발전 현황  \n",
      "      1. 머신러닝과 딥러닝  \n",
      "      2. 자연어 처리(NLP)  \n",
      "      3. 로봇 공학  \n",
      "   B. 고용 시장에서의 AI 활용  \n",
      "      1. 자동화의 증가  \n",
      "      2. AI 기반의 데이터 분석  \n",
      "\n",
      "**III. AI가 고용에 미치는 긍정적인 영향**  \n",
      "   A. 새로운 직업 창출  \n",
      "      1. AI 개발 및 유지 관리 직종  \n",
      "      2. 데이터 과학자 및 분석가  \n",
      "   B. 업무 효율성 향상  \n",
      "      1. 반복적인 작업의 자동화  \n",
      "      2. 의사결정 지원 시스템  \n",
      "   C. 업종별 AI의 적용 사례  \n",
      "      1. 의료 분야  \n",
      "      2. 금융 분야  \n",
      "      3. 제조업  \n",
      "\n",
      "**IV. AI가 고용에 미치는 부정적인 영향**  \n",
      "   A. 일자리 감소  \n",
      "      1. 대체 가능한 직종  \n",
      "      2. 실업률 증가 가능성  \n",
      "   B. 직업 불평등 심화  \n",
      "      1. 기술 격차  \n",
      "      2. 저숙련 노동자에 대한 영향  \n",
      "   C. 고용 불안정성  \n",
      "      1. 계약직 및 프리랜서 증가  \n",
      "      2. 직업의 지속 가능성 문제  \n",
      "\n",
      "**V. AI와 미래의 직업 시장**  \n",
      "   A. AI와 인간의 협업  \n",
      "      1. 인간의 창의성과 AI의 분석력  \n",
      "      2. 하이브리드 직업의 출현  \n",
      "   B. 직업 교육 및 재훈련의 중요성  \n",
      "      1. 기술 변화에 대한 적응  \n",
      "      2. 평생 학습의 필요성  \n",
      "   C. 정책적 대응 방안  \n",
      "      1. 정부의 역할  \n",
      "      2. 기업의 책임  \n",
      "\n",
      "**VI. 결론**  \n",
      "   A. AI의 고용 시장에 대한 전반적인 영향 요약  \n",
      "   B. 긍정적과 부정적 측면의 균형  \n",
      "   C. 미래 사회에서의 AI의 역할과 개인의 준비 필요성  \n",
      "\n",
      "이 아웃라인은 AI가 고용 시장에 미치는 다양한 영향을 포괄적으로 다루고 있으며, AI 기술의 발전이 고용 구조와 직업의 미래에 미치는 긍정적 및 부정적 측면을 모두 분석하고 있습니다.\u001b[00m\n",
      "\n",
      "\n",
      "\u001b[1m\u001b[95m# Agent:\u001b[00m \u001b[1m\u001b[92mWriter\u001b[00m\n",
      "\u001b[95m## Task:\u001b[00m \u001b[92mWrite an article about the findings from the research\u001b[00m\n",
      "\n",
      "\n",
      "\u001b[1m\u001b[95m# Agent:\u001b[00m \u001b[1m\u001b[92mWriter\u001b[00m\n",
      "\u001b[95m## Final Answer:\u001b[00m \u001b[92m\n",
      "**I. 서론**  \n",
      "인공지능(AI)은 컴퓨터가 인간의 지능을 모방하여 학습하고 문제를 해결할 수 있게 하는 기술을 의미합니다. 최근 몇 년간 AI는 급속한 발전을 이루며 다양한 분야에 혁신을 가져왔습니다. 특히, AI는 고용 시장에 큰 영향을 미치고 있으며, 이러한 변화는 긍정적 효과와 부정적 효과를 모두 내포하고 있습니다. 본 글에서는 AI가 고용 시장에 어떤 영향을 미치고 있는지에 대해 자세히 살펴보겠습니다.  \n",
      "\n",
      "**II. AI의 기술 발전과 고용 시장의 변화**  \n",
      "AI 기술의 발전은 머신러닝과 딥러닝, 자연어 처리(NLP), 로봇 공학 등 다양한 분야에서 이루어지고 있습니다. 이러한 기술들은 이미 고용 시장에 깊숙이 자리 잡고 있으며, 자동화의 증가와 AI 기반 데이터 분석을 통해 업무 효율성을 향상시키고 있습니다.  \n",
      "\n",
      "**III. AI가 고용에 미치는 긍정적인 영향**  \n",
      "AI는 새로운 직업을 창출하고 있습니다. AI 개발 및 유지 관리 직종, 데이터 과학자 및 분석가 등과 같은 새로운 직업군이 나타나고 있으며, 이는 새로운 일자리를 제공하고 있습니다. 또한, AI는 반복적인 작업을 자동화하여 업무 효율성을 높이고, 의사결정 지원 시스템을 통해 더 나은 결과를 도출하는 데 기여하고 있습니다. 의료, 금융, 제조업 등 다양한 업종에서 AI의 적용 사례를 찾아볼 수 있습니다.  \n",
      "\n",
      "**IV. AI가 고용에 미치는 부정적인 영향**  \n",
      "AI의 발전은 일부 직종에서 일자리 감소를 초래할 수 있습니다. 대체 가능한 직종이 늘어나면서 실업률 증가의 가능성이 대두되고 있으며, 기술 격차로 인한 직업 불평등이 심화되고 있습니다. 또한, 계약직 및 프리랜서 증가로 인해 고용의 불안정성이 커지고 있으며, 직업의 지속 가능성에 대한 문제도 제기되고 있습니다.  \n",
      "\n",
      "**V. AI와 미래의 직업 시장**  \n",
      "미래의 직업 시장에서는 AI와 인간의 협업이 중요한 역할을 차지할 것입니다. 인간의 창의성과 AI의 분석력이 결합된 하이브리드 직업의 출현이 예상되며, 이를 위해 직업 교육 및 재훈련의 중요성이 강조되고 있습니다. 기술 변화에 대한 적응과 평생 학습의 필요성이 커지면서, 정부와 기업의 정책적 대응 방안도 중요해지고 있습니다.  \n",
      "\n",
      "**VI. 결론**  \n",
      "AI는 고용 시장에 다양한 영향을 미치고 있으며, 긍정적 측면과 부정적 측면이 공존합니다. AI의 발전이 가져올 미래를 대비하기 위해서는 개인의 준비와 더불어 정책적 대응이 필요합니다. AI와 인간의 조화를 통해 미래 사회에서의 적응력을 높여야 할 것입니다.  \n",
      "\n",
      "이 아티클은 AI가 고용 시장에 미치는 영향을 종합적으로 이해하는 데 도움을 줄 것입니다. AI의 발전은 피할 수 없는 흐름이지만, 그에 따른 변화에 어떻게 대비하느냐가 중요합니다.\u001b[00m\n",
      "\n",
      "\n"
     ]
    },
    {
     "data": {
      "text/plain": [
       "CrewOutput(raw='**I. 서론**  \\n인공지능(AI)은 컴퓨터가 인간의 지능을 모방하여 학습하고 문제를 해결할 수 있게 하는 기술을 의미합니다. 최근 몇 년간 AI는 급속한 발전을 이루며 다양한 분야에 혁신을 가져왔습니다. 특히, AI는 고용 시장에 큰 영향을 미치고 있으며, 이러한 변화는 긍정적 효과와 부정적 효과를 모두 내포하고 있습니다. 본 글에서는 AI가 고용 시장에 어떤 영향을 미치고 있는지에 대해 자세히 살펴보겠습니다.  \\n\\n**II. AI의 기술 발전과 고용 시장의 변화**  \\nAI 기술의 발전은 머신러닝과 딥러닝, 자연어 처리(NLP), 로봇 공학 등 다양한 분야에서 이루어지고 있습니다. 이러한 기술들은 이미 고용 시장에 깊숙이 자리 잡고 있으며, 자동화의 증가와 AI 기반 데이터 분석을 통해 업무 효율성을 향상시키고 있습니다.  \\n\\n**III. AI가 고용에 미치는 긍정적인 영향**  \\nAI는 새로운 직업을 창출하고 있습니다. AI 개발 및 유지 관리 직종, 데이터 과학자 및 분석가 등과 같은 새로운 직업군이 나타나고 있으며, 이는 새로운 일자리를 제공하고 있습니다. 또한, AI는 반복적인 작업을 자동화하여 업무 효율성을 높이고, 의사결정 지원 시스템을 통해 더 나은 결과를 도출하는 데 기여하고 있습니다. 의료, 금융, 제조업 등 다양한 업종에서 AI의 적용 사례를 찾아볼 수 있습니다.  \\n\\n**IV. AI가 고용에 미치는 부정적인 영향**  \\nAI의 발전은 일부 직종에서 일자리 감소를 초래할 수 있습니다. 대체 가능한 직종이 늘어나면서 실업률 증가의 가능성이 대두되고 있으며, 기술 격차로 인한 직업 불평등이 심화되고 있습니다. 또한, 계약직 및 프리랜서 증가로 인해 고용의 불안정성이 커지고 있으며, 직업의 지속 가능성에 대한 문제도 제기되고 있습니다.  \\n\\n**V. AI와 미래의 직업 시장**  \\n미래의 직업 시장에서는 AI와 인간의 협업이 중요한 역할을 차지할 것입니다. 인간의 창의성과 AI의 분석력이 결합된 하이브리드 직업의 출현이 예상되며, 이를 위해 직업 교육 및 재훈련의 중요성이 강조되고 있습니다. 기술 변화에 대한 적응과 평생 학습의 필요성이 커지면서, 정부와 기업의 정책적 대응 방안도 중요해지고 있습니다.  \\n\\n**VI. 결론**  \\nAI는 고용 시장에 다양한 영향을 미치고 있으며, 긍정적 측면과 부정적 측면이 공존합니다. AI의 발전이 가져올 미래를 대비하기 위해서는 개인의 준비와 더불어 정책적 대응이 필요합니다. AI와 인간의 조화를 통해 미래 사회에서의 적응력을 높여야 할 것입니다.  \\n\\n이 아티클은 AI가 고용 시장에 미치는 영향을 종합적으로 이해하는 데 도움을 줄 것입니다. AI의 발전은 피할 수 없는 흐름이지만, 그에 따른 변화에 어떻게 대비하느냐가 중요합니다.', pydantic=None, json_dict=None, tasks_output=[TaskOutput(description=\"Create a detailed outline for an article about AI's impact on job markets\", name=None, expected_output=\"A comprehensive outline covering the main aspects of AI'Agent\\n    influence on employment\", summary=\"Create a detailed outline for an article about AI's impact...\", raw='**I. 서론**  \\n   A. 인공지능(AI)의 정의  \\n   B. AI의 발전 배경  \\n   C. 주제 소개: AI가 고용 시장에 미치는 영향  \\n\\n**II. AI의 기술 발전과 고용 시장의 변화**  \\n   A. AI 기술의 발전 현황  \\n      1. 머신러닝과 딥러닝  \\n      2. 자연어 처리(NLP)  \\n      3. 로봇 공학  \\n   B. 고용 시장에서의 AI 활용  \\n      1. 자동화의 증가  \\n      2. AI 기반의 데이터 분석  \\n\\n**III. AI가 고용에 미치는 긍정적인 영향**  \\n   A. 새로운 직업 창출  \\n      1. AI 개발 및 유지 관리 직종  \\n      2. 데이터 과학자 및 분석가  \\n   B. 업무 효율성 향상  \\n      1. 반복적인 작업의 자동화  \\n      2. 의사결정 지원 시스템  \\n   C. 업종별 AI의 적용 사례  \\n      1. 의료 분야  \\n      2. 금융 분야  \\n      3. 제조업  \\n\\n**IV. AI가 고용에 미치는 부정적인 영향**  \\n   A. 일자리 감소  \\n      1. 대체 가능한 직종  \\n      2. 실업률 증가 가능성  \\n   B. 직업 불평등 심화  \\n      1. 기술 격차  \\n      2. 저숙련 노동자에 대한 영향  \\n   C. 고용 불안정성  \\n      1. 계약직 및 프리랜서 증가  \\n      2. 직업의 지속 가능성 문제  \\n\\n**V. AI와 미래의 직업 시장**  \\n   A. AI와 인간의 협업  \\n      1. 인간의 창의성과 AI의 분석력  \\n      2. 하이브리드 직업의 출현  \\n   B. 직업 교육 및 재훈련의 중요성  \\n      1. 기술 변화에 대한 적응  \\n      2. 평생 학습의 필요성  \\n   C. 정책적 대응 방안  \\n      1. 정부의 역할  \\n      2. 기업의 책임  \\n\\n**VI. 결론**  \\n   A. AI의 고용 시장에 대한 전반적인 영향 요약  \\n   B. 긍정적과 부정적 측면의 균형  \\n   C. 미래 사회에서의 AI의 역할과 개인의 준비 필요성  \\n\\n이 아웃라인은 AI가 고용 시장에 미치는 다양한 영향을 포괄적으로 다루고 있으며, AI 기술의 발전이 고용 구조와 직업의 미래에 미치는 긍정적 및 부정적 측면을 모두 분석하고 있습니다.', pydantic=None, json_dict=None, agent='Outline Generator', output_format=<OutputFormat.RAW: 'raw'>), TaskOutput(description='Write an article about the findings from the research', name=None, expected_output=\"An engaging article discussing AI's influence on job markets\", summary='Write an article about the findings from the research...', raw='**I. 서론**  \\n인공지능(AI)은 컴퓨터가 인간의 지능을 모방하여 학습하고 문제를 해결할 수 있게 하는 기술을 의미합니다. 최근 몇 년간 AI는 급속한 발전을 이루며 다양한 분야에 혁신을 가져왔습니다. 특히, AI는 고용 시장에 큰 영향을 미치고 있으며, 이러한 변화는 긍정적 효과와 부정적 효과를 모두 내포하고 있습니다. 본 글에서는 AI가 고용 시장에 어떤 영향을 미치고 있는지에 대해 자세히 살펴보겠습니다.  \\n\\n**II. AI의 기술 발전과 고용 시장의 변화**  \\nAI 기술의 발전은 머신러닝과 딥러닝, 자연어 처리(NLP), 로봇 공학 등 다양한 분야에서 이루어지고 있습니다. 이러한 기술들은 이미 고용 시장에 깊숙이 자리 잡고 있으며, 자동화의 증가와 AI 기반 데이터 분석을 통해 업무 효율성을 향상시키고 있습니다.  \\n\\n**III. AI가 고용에 미치는 긍정적인 영향**  \\nAI는 새로운 직업을 창출하고 있습니다. AI 개발 및 유지 관리 직종, 데이터 과학자 및 분석가 등과 같은 새로운 직업군이 나타나고 있으며, 이는 새로운 일자리를 제공하고 있습니다. 또한, AI는 반복적인 작업을 자동화하여 업무 효율성을 높이고, 의사결정 지원 시스템을 통해 더 나은 결과를 도출하는 데 기여하고 있습니다. 의료, 금융, 제조업 등 다양한 업종에서 AI의 적용 사례를 찾아볼 수 있습니다.  \\n\\n**IV. AI가 고용에 미치는 부정적인 영향**  \\nAI의 발전은 일부 직종에서 일자리 감소를 초래할 수 있습니다. 대체 가능한 직종이 늘어나면서 실업률 증가의 가능성이 대두되고 있으며, 기술 격차로 인한 직업 불평등이 심화되고 있습니다. 또한, 계약직 및 프리랜서 증가로 인해 고용의 불안정성이 커지고 있으며, 직업의 지속 가능성에 대한 문제도 제기되고 있습니다.  \\n\\n**V. AI와 미래의 직업 시장**  \\n미래의 직업 시장에서는 AI와 인간의 협업이 중요한 역할을 차지할 것입니다. 인간의 창의성과 AI의 분석력이 결합된 하이브리드 직업의 출현이 예상되며, 이를 위해 직업 교육 및 재훈련의 중요성이 강조되고 있습니다. 기술 변화에 대한 적응과 평생 학습의 필요성이 커지면서, 정부와 기업의 정책적 대응 방안도 중요해지고 있습니다.  \\n\\n**VI. 결론**  \\nAI는 고용 시장에 다양한 영향을 미치고 있으며, 긍정적 측면과 부정적 측면이 공존합니다. AI의 발전이 가져올 미래를 대비하기 위해서는 개인의 준비와 더불어 정책적 대응이 필요합니다. AI와 인간의 조화를 통해 미래 사회에서의 적응력을 높여야 할 것입니다.  \\n\\n이 아티클은 AI가 고용 시장에 미치는 영향을 종합적으로 이해하는 데 도움을 줄 것입니다. AI의 발전은 피할 수 없는 흐름이지만, 그에 따른 변화에 어떻게 대비하느냐가 중요합니다.', pydantic=None, json_dict=None, agent='Writer', output_format=<OutputFormat.RAW: 'raw'>)], token_usage=UsageMetrics(total_tokens=4550, prompt_tokens=1932, cached_prompt_tokens=0, completion_tokens=2618, successful_requests=4))"
      ]
     },
     "execution_count": 13,
     "metadata": {},
     "output_type": "execute_result"
    }
   ],
   "source": [
    "result=ai_impact_crew.kickoff()\n",
    "\n",
    "result"
   ]
  },
  {
   "cell_type": "code",
   "execution_count": 14,
   "metadata": {},
   "outputs": [
    {
     "data": {
      "text/plain": [
       "CrewOutput(raw='**I. 서론**  \\n인공지능(AI)은 컴퓨터가 인간의 지능을 모방하여 학습하고 문제를 해결할 수 있게 하는 기술을 의미합니다. 최근 몇 년간 AI는 급속한 발전을 이루며 다양한 분야에 혁신을 가져왔습니다. 특히, AI는 고용 시장에 큰 영향을 미치고 있으며, 이러한 변화는 긍정적 효과와 부정적 효과를 모두 내포하고 있습니다. 본 글에서는 AI가 고용 시장에 어떤 영향을 미치고 있는지에 대해 자세히 살펴보겠습니다.  \\n\\n**II. AI의 기술 발전과 고용 시장의 변화**  \\nAI 기술의 발전은 머신러닝과 딥러닝, 자연어 처리(NLP), 로봇 공학 등 다양한 분야에서 이루어지고 있습니다. 이러한 기술들은 이미 고용 시장에 깊숙이 자리 잡고 있으며, 자동화의 증가와 AI 기반 데이터 분석을 통해 업무 효율성을 향상시키고 있습니다.  \\n\\n**III. AI가 고용에 미치는 긍정적인 영향**  \\nAI는 새로운 직업을 창출하고 있습니다. AI 개발 및 유지 관리 직종, 데이터 과학자 및 분석가 등과 같은 새로운 직업군이 나타나고 있으며, 이는 새로운 일자리를 제공하고 있습니다. 또한, AI는 반복적인 작업을 자동화하여 업무 효율성을 높이고, 의사결정 지원 시스템을 통해 더 나은 결과를 도출하는 데 기여하고 있습니다. 의료, 금융, 제조업 등 다양한 업종에서 AI의 적용 사례를 찾아볼 수 있습니다.  \\n\\n**IV. AI가 고용에 미치는 부정적인 영향**  \\nAI의 발전은 일부 직종에서 일자리 감소를 초래할 수 있습니다. 대체 가능한 직종이 늘어나면서 실업률 증가의 가능성이 대두되고 있으며, 기술 격차로 인한 직업 불평등이 심화되고 있습니다. 또한, 계약직 및 프리랜서 증가로 인해 고용의 불안정성이 커지고 있으며, 직업의 지속 가능성에 대한 문제도 제기되고 있습니다.  \\n\\n**V. AI와 미래의 직업 시장**  \\n미래의 직업 시장에서는 AI와 인간의 협업이 중요한 역할을 차지할 것입니다. 인간의 창의성과 AI의 분석력이 결합된 하이브리드 직업의 출현이 예상되며, 이를 위해 직업 교육 및 재훈련의 중요성이 강조되고 있습니다. 기술 변화에 대한 적응과 평생 학습의 필요성이 커지면서, 정부와 기업의 정책적 대응 방안도 중요해지고 있습니다.  \\n\\n**VI. 결론**  \\nAI는 고용 시장에 다양한 영향을 미치고 있으며, 긍정적 측면과 부정적 측면이 공존합니다. AI의 발전이 가져올 미래를 대비하기 위해서는 개인의 준비와 더불어 정책적 대응이 필요합니다. AI와 인간의 조화를 통해 미래 사회에서의 적응력을 높여야 할 것입니다.  \\n\\n이 아티클은 AI가 고용 시장에 미치는 영향을 종합적으로 이해하는 데 도움을 줄 것입니다. AI의 발전은 피할 수 없는 흐름이지만, 그에 따른 변화에 어떻게 대비하느냐가 중요합니다.', pydantic=None, json_dict=None, tasks_output=[TaskOutput(description=\"Create a detailed outline for an article about AI's impact on job markets\", name=None, expected_output=\"A comprehensive outline covering the main aspects of AI'Agent\\n    influence on employment\", summary=\"Create a detailed outline for an article about AI's impact...\", raw='**I. 서론**  \\n   A. 인공지능(AI)의 정의  \\n   B. AI의 발전 배경  \\n   C. 주제 소개: AI가 고용 시장에 미치는 영향  \\n\\n**II. AI의 기술 발전과 고용 시장의 변화**  \\n   A. AI 기술의 발전 현황  \\n      1. 머신러닝과 딥러닝  \\n      2. 자연어 처리(NLP)  \\n      3. 로봇 공학  \\n   B. 고용 시장에서의 AI 활용  \\n      1. 자동화의 증가  \\n      2. AI 기반의 데이터 분석  \\n\\n**III. AI가 고용에 미치는 긍정적인 영향**  \\n   A. 새로운 직업 창출  \\n      1. AI 개발 및 유지 관리 직종  \\n      2. 데이터 과학자 및 분석가  \\n   B. 업무 효율성 향상  \\n      1. 반복적인 작업의 자동화  \\n      2. 의사결정 지원 시스템  \\n   C. 업종별 AI의 적용 사례  \\n      1. 의료 분야  \\n      2. 금융 분야  \\n      3. 제조업  \\n\\n**IV. AI가 고용에 미치는 부정적인 영향**  \\n   A. 일자리 감소  \\n      1. 대체 가능한 직종  \\n      2. 실업률 증가 가능성  \\n   B. 직업 불평등 심화  \\n      1. 기술 격차  \\n      2. 저숙련 노동자에 대한 영향  \\n   C. 고용 불안정성  \\n      1. 계약직 및 프리랜서 증가  \\n      2. 직업의 지속 가능성 문제  \\n\\n**V. AI와 미래의 직업 시장**  \\n   A. AI와 인간의 협업  \\n      1. 인간의 창의성과 AI의 분석력  \\n      2. 하이브리드 직업의 출현  \\n   B. 직업 교육 및 재훈련의 중요성  \\n      1. 기술 변화에 대한 적응  \\n      2. 평생 학습의 필요성  \\n   C. 정책적 대응 방안  \\n      1. 정부의 역할  \\n      2. 기업의 책임  \\n\\n**VI. 결론**  \\n   A. AI의 고용 시장에 대한 전반적인 영향 요약  \\n   B. 긍정적과 부정적 측면의 균형  \\n   C. 미래 사회에서의 AI의 역할과 개인의 준비 필요성  \\n\\n이 아웃라인은 AI가 고용 시장에 미치는 다양한 영향을 포괄적으로 다루고 있으며, AI 기술의 발전이 고용 구조와 직업의 미래에 미치는 긍정적 및 부정적 측면을 모두 분석하고 있습니다.', pydantic=None, json_dict=None, agent='Outline Generator', output_format=<OutputFormat.RAW: 'raw'>), TaskOutput(description='Write an article about the findings from the research', name=None, expected_output=\"An engaging article discussing AI's influence on job markets\", summary='Write an article about the findings from the research...', raw='**I. 서론**  \\n인공지능(AI)은 컴퓨터가 인간의 지능을 모방하여 학습하고 문제를 해결할 수 있게 하는 기술을 의미합니다. 최근 몇 년간 AI는 급속한 발전을 이루며 다양한 분야에 혁신을 가져왔습니다. 특히, AI는 고용 시장에 큰 영향을 미치고 있으며, 이러한 변화는 긍정적 효과와 부정적 효과를 모두 내포하고 있습니다. 본 글에서는 AI가 고용 시장에 어떤 영향을 미치고 있는지에 대해 자세히 살펴보겠습니다.  \\n\\n**II. AI의 기술 발전과 고용 시장의 변화**  \\nAI 기술의 발전은 머신러닝과 딥러닝, 자연어 처리(NLP), 로봇 공학 등 다양한 분야에서 이루어지고 있습니다. 이러한 기술들은 이미 고용 시장에 깊숙이 자리 잡고 있으며, 자동화의 증가와 AI 기반 데이터 분석을 통해 업무 효율성을 향상시키고 있습니다.  \\n\\n**III. AI가 고용에 미치는 긍정적인 영향**  \\nAI는 새로운 직업을 창출하고 있습니다. AI 개발 및 유지 관리 직종, 데이터 과학자 및 분석가 등과 같은 새로운 직업군이 나타나고 있으며, 이는 새로운 일자리를 제공하고 있습니다. 또한, AI는 반복적인 작업을 자동화하여 업무 효율성을 높이고, 의사결정 지원 시스템을 통해 더 나은 결과를 도출하는 데 기여하고 있습니다. 의료, 금융, 제조업 등 다양한 업종에서 AI의 적용 사례를 찾아볼 수 있습니다.  \\n\\n**IV. AI가 고용에 미치는 부정적인 영향**  \\nAI의 발전은 일부 직종에서 일자리 감소를 초래할 수 있습니다. 대체 가능한 직종이 늘어나면서 실업률 증가의 가능성이 대두되고 있으며, 기술 격차로 인한 직업 불평등이 심화되고 있습니다. 또한, 계약직 및 프리랜서 증가로 인해 고용의 불안정성이 커지고 있으며, 직업의 지속 가능성에 대한 문제도 제기되고 있습니다.  \\n\\n**V. AI와 미래의 직업 시장**  \\n미래의 직업 시장에서는 AI와 인간의 협업이 중요한 역할을 차지할 것입니다. 인간의 창의성과 AI의 분석력이 결합된 하이브리드 직업의 출현이 예상되며, 이를 위해 직업 교육 및 재훈련의 중요성이 강조되고 있습니다. 기술 변화에 대한 적응과 평생 학습의 필요성이 커지면서, 정부와 기업의 정책적 대응 방안도 중요해지고 있습니다.  \\n\\n**VI. 결론**  \\nAI는 고용 시장에 다양한 영향을 미치고 있으며, 긍정적 측면과 부정적 측면이 공존합니다. AI의 발전이 가져올 미래를 대비하기 위해서는 개인의 준비와 더불어 정책적 대응이 필요합니다. AI와 인간의 조화를 통해 미래 사회에서의 적응력을 높여야 할 것입니다.  \\n\\n이 아티클은 AI가 고용 시장에 미치는 영향을 종합적으로 이해하는 데 도움을 줄 것입니다. AI의 발전은 피할 수 없는 흐름이지만, 그에 따른 변화에 어떻게 대비하느냐가 중요합니다.', pydantic=None, json_dict=None, agent='Writer', output_format=<OutputFormat.RAW: 'raw'>)], token_usage=UsageMetrics(total_tokens=4550, prompt_tokens=1932, cached_prompt_tokens=0, completion_tokens=2618, successful_requests=4))"
      ]
     },
     "execution_count": 14,
     "metadata": {},
     "output_type": "execute_result"
    }
   ],
   "source": [
    "result"
   ]
  },
  {
   "cell_type": "code",
   "execution_count": 21,
   "metadata": {},
   "outputs": [],
   "source": [
    "import os\n",
    "import warnings\n",
    "warnings.filterwarnings('ignore')\n",
    "\n"
   ]
  },
  {
   "cell_type": "code",
   "execution_count": 22,
   "metadata": {},
   "outputs": [],
   "source": [
    "from crewai import Agent, Task, Crew\n",
    "from crewai.process import Process\n",
    "\n",
    "from crewai_tools import (\n",
    "    SerperDevTool,\n",
    "    WebsiteSearchTool,\n",
    "    ScrapeWebsiteTool\n",
    ")"
   ]
  },
  {
   "cell_type": "code",
   "execution_count": 31,
   "metadata": {},
   "outputs": [],
   "source": [
    "from langchain_openai import ChatOpenAI\n",
    "\n",
    "llm = ChatOpenAI(model=\"gpt-4o-mini\")\n",
    "\n",
    "search_tool = SerperDevTool()\n",
    "web_rag_tool = WebsiteSearchTool()\n",
    "scrap_tool = ScrapeWebsiteTool()\n",
    "\n",
    "researcher = Agent(\n",
    "    role=\"테크 트렌드 연구원\",\n",
    "    goal=\"인공지능 분야의 최신 기술 트렌드를 한국어로 제공합니다. 지금은 2024년 11월입니다.\",\n",
    "    backstory=\"기술 트렌드에 예리한 안목을 지닌 전문 분석가이자 AI 개발자입니다.\",\n",
    "    tools=[search_tool, web_rag_tool],\n",
    "    verbose=True,\n",
    "    max_iter=5,\n",
    "    llm=llm\n",
    ")\n",
    "\n",
    "writer = Agent(\n",
    "    role=\"뉴스레터 작성자\",\n",
    "    goal=\"최신 AI 기술 트렌드에 대한 매력적인 테크 뉴스레터를 한국어로 작성하세요 지금은 2024년 11월입니다.\",\n",
    "    backstory=\"기술 대한 열정을 가진 숙려된 작가입니다.\",\n",
    "    verbose=True,\n",
    "    allow_delegation=False,\n",
    "    llm=llm\n",
    ")\n",
    "\n",
    "\n"
   ]
  },
  {
   "cell_type": "code",
   "execution_count": 32,
   "metadata": {},
   "outputs": [],
   "source": [
    "research = Task(\n",
    "    description='AI 업계의 최신 기술 동향을 조사하고 요약을 제공하세요.',\n",
    "    expected_output='AI 업계에서 가장 주목받는 3대기술 개발 동향과 그 중요성에 대한 신선한 관점을 요약한 글',\n",
    "    agent=researcher\n",
    "\n",
    ")\n",
    "\n",
    "write = Task(\n",
    "    description=\"\"\"테크 트렌드 연구원의 요약을 바탕으로 AI 산업에 대한 매력적인 테크 뉴스레터를 작성하세요.\n",
    "    테크 뉴스레터이므로 전문적인 용어를 사용해도 괜찮습니다.\"\"\",\n",
    "    expected_output='최신 기술 관련 소식을 재밌는 말투로 소개하는 4문단짜리 마크다운 형식 뉴스레터',\n",
    "    agent=writer,\n",
    "    output_file='./new_post.md'\n",
    ")"
   ]
  },
  {
   "cell_type": "code",
   "execution_count": 33,
   "metadata": {},
   "outputs": [
    {
     "name": "stderr",
     "output_type": "stream",
     "text": [
      "2024-11-19 14:36:38,651 - 17072 - __init__.py-__init__:537 - WARNING: Overriding of current TracerProvider is not allowed\n"
     ]
    }
   ],
   "source": [
    "crew = Crew(\n",
    "  agents=[researcher, writer],\n",
    "  tasks=[research, write],\n",
    "  verbose=True,\n",
    "  process=Process.sequential\n",
    ")"
   ]
  },
  {
   "cell_type": "code",
   "execution_count": 34,
   "metadata": {},
   "outputs": [
    {
     "name": "stdout",
     "output_type": "stream",
     "text": [
      "\u001b[1m\u001b[95m# Agent:\u001b[00m \u001b[1m\u001b[92m테크 트렌드 연구원\u001b[00m\n",
      "\u001b[95m## Task:\u001b[00m \u001b[92mAI 업계의 최신 기술 동향을 조사하고 요약을 제공하세요.\u001b[00m\n",
      "\n",
      "\n",
      "\u001b[1m\u001b[95m# Agent:\u001b[00m \u001b[1m\u001b[92m테크 트렌드 연구원\u001b[00m\n",
      "\u001b[95m## Thought:\u001b[00m \u001b[92mAI 업계의 최신 기술 동향을 조사하기 위해 인터넷에서 관련 정보를 찾겠습니다.\u001b[00m\n",
      "\u001b[95m## Using tool:\u001b[00m \u001b[92mSearch the internet\u001b[00m\n",
      "\u001b[95m## Tool Input:\u001b[00m \u001b[92m\n",
      "\"{\\\"search_query\\\": \\\"2024 AI technology trends\\\"}\"\u001b[00m\n",
      "\u001b[95m## Tool Output:\u001b[00m \u001b[92m\n",
      "\n",
      "Search results: Title: 5 AI Trends to Watch in 2024 - Coursera\n",
      "Link: https://www.coursera.org/articles/ai-trends\n",
      "Snippet: 5 trends in artificial intelligence · 1. Generative AI and democratization · 2. AI for workplace productivity · 3. Multimodal AI · 4. AI in science ...\n",
      "---\n",
      "Title: 22 Top AI Statistics & Trends In 2024 – Forbes Advisor\n",
      "Link: https://www.forbes.com/advisor/business/ai-statistics/\n",
      "Snippet: Learn about the AI trends that will determine the state of technology, business and society in the upcoming years.\n",
      "---\n",
      "Title: 7 rapid AI trends happening in 2024 - Khoros\n",
      "Link: https://khoros.com/blog/ai-trends\n",
      "Snippet: In this article, we'll cover the 7 most rapid AI trends this year, such as advancements in multimodal AI, the rise of AI regulations, increased AI adoption in ...\n",
      "---\n",
      "Title: AI Index Report 2024 – Artificial Intelligence Index - Stanford University\n",
      "Link: https://aiindex.stanford.edu/report/\n",
      "Snippet: 1. AI beats humans on some tasks, but not on all. 2. Here comes multimodal AI. 3. Harder benchmarks emerge. 4. Better AI means better data which means … even ...\n",
      "---\n",
      "Title: McKinsey technology trends outlook 2024\n",
      "Link: https://www.mckinsey.com/capabilities/mckinsey-digital/our-insights/the-top-trends-in-tech\n",
      "Snippet: Innovation has accelerated in the three trends that are part of the “AI revolution” group: gen AI, applied AI, and industrializing machine learning. Gen AI ...\n",
      "---\n",
      "Title: The Top Artificial Intelligence Trends - IBM\n",
      "Link: https://www.ibm.com/think/insights/artificial-intelligence-trends\n",
      "Snippet: Reality check: more realistic expectations · Multimodal AI · Small(er) language models and open source advancements · GPU shortages and cloud costs ...\n",
      "---\n",
      "Title: 10 top AI and machine learning trends for 2024 | TechTarget\n",
      "Link: https://www.techtarget.com/searchenterpriseai/tip/9-top-AI-and-machine-learning-trends\n",
      "Snippet: 10 top AI and machine learning trends for 2024 · 1. Multimodal AI · 2. Agentic AI · 3. Open source AI · 4. Retrieval-augmented generation · 5.\n",
      "---\n",
      "Title: The Most Important AI Trends to Watch in 2024 - Aisera\n",
      "Link: https://aisera.com/blog/artificial-intelligence-trends/\n",
      "Snippet: Explore AI trends like linguistic advancements, LLMs, and generative AI. Understand intelligence, trustworthiness, and commercial impacts.\n",
      "---\n",
      "\u001b[00m\n"
     ]
    },
    {
     "name": "stderr",
     "output_type": "stream",
     "text": [
      "Inserting batches in chromadb: 100%|██████████| 1/1 [00:00<00:00,  1.03it/s]\n"
     ]
    },
    {
     "name": "stdout",
     "output_type": "stream",
     "text": [
      "\n",
      "\n",
      "\u001b[1m\u001b[95m# Agent:\u001b[00m \u001b[1m\u001b[92m테크 트렌드 연구원\u001b[00m\n",
      "\u001b[95m## Thought:\u001b[00m \u001b[92mAI 업계의 최신 기술 동향에 대한 정보를 모으기 위해 여러 출처를 참고하겠습니다.\u001b[00m\n",
      "\u001b[95m## Using tool:\u001b[00m \u001b[92mSearch in a specific website\u001b[00m\n",
      "\u001b[95m## Tool Input:\u001b[00m \u001b[92m\n",
      "\"{\\\"search_query\\\": \\\"AI trends 2024\\\", \\\"website\\\": \\\"https://www.coursera.org/articles/ai-trends\\\"}\"\u001b[00m\n",
      "\u001b[95m## Tool Output:\u001b[00m \u001b[92m\n",
      "Relevant Content:\n",
      "Vanderbilt University's ChatGPT: Master Free AI Tools to Supercharge Productivity Specialization, you'll learn how to leverage ChatGPT's free AI to excel at project management, writing, data analytics, marketing, social media, and more for work and life. Article sources1. PricewaterhouseCoopers. “2024 AI Business Predictions, https:/www.pwc.com/us/en/tech-effect/ai-analytics/ai-predictions.html.” Accessed March 10, 2024.2. McKinsey. “The economic potential of generative AI: The next productivity frontier, https:/www.mckinsey.com/capabilities/mckinsey-digital/our-insights/the-economic-potential-of-generative-ai-the-next-productivity-frontier introduction.” Accessed March 10, 2024.3. Microsoft. “3 big AI trends to watch in 2024, https:/news.microsoft.com/three-big-ai-trends-to-watch-in-2024/.” Accessed March 10, 2024.View all sources Keep readingUpdated on Oct 28, 2024Written by:CCoursera StaffEditorial TeamCoursera’s editorial team is comprised of highly experienced professional editors, writers, and fact.This content has been made available for informational purposes only. Learners are advised to conduct additional research to ensure that courses and other credentials pursued meet their personal, professional, and financial goals.\n",
      "\n",
      "5 AI Trends to Watch in 2024 | Coursera Show notifications05 AI Trends to Watch in 2024Written by Coursera Staff • Updated on Oct 28, 2024Get to know some of the top trends in artificial intelligence in 2024.Artificial intelligence (AI) has taken the technology industry by storm, and it’s only growing from here. According to PricewaterhouseCoopers, 73 percent of US companies use AI in some capacity in their business [1].One of the most recent trends is generative AI, which has the potential to generate trillions of dollars in value across industries [2]. People worldwide have begun to incorporate generative AI into their workflows, adding to the popularity and penetration of AI.Learn about some of the top trends in AI.5 trends in artificial intelligenceArtificial intelligence is quickly transforming how we live and the business landscape in which we work. Wondering what some of the potential impacts of this exciting technology might be?Here are five of the top AI trends you can expect to see in 2024.1. Generative AI and democratizationGenerative AI is arguably the biggest trend in AI this year. When ChatGPT and other text and image generators became accessible to the general public, it was widely used and adopted by business teams worldwide. Along with this is the democratization of AI, enabling it to be available to everyone—even those without technical knowledge. Generative AI is just one example of democratization. Hundreds of AI tools today allow us to create content faster, translate between languages, and populate search engines. It is changing how we communicate with each other, whether it’s between friends or between the media and the general public.Read more: How To Write ChatGPT Prompts: Your 2024 Guide2. AI for workplace productivityAnother trend we see in AI is its place in workplace productivity. Artificial intelligence can speed up and enhance how we work—in particular, how it automates time-consuming or repetitive tasks. Whether inputting data in a\n",
      "\n",
      "spreadsheet, writing an outline for a business plan, or controlling quality at a manufacturing plant, AI has massive potential to increase our productivity at work.For those who may be concerned about AI replacing jobs, this technology is often simply acting as a tool for automating repetition, leaving room for humans to make space for creativity, emotional intelligence, and moral judgment.3. Multimodal AIMany large language models (LLMs) process only text data. Multimodel models in AI can grasp information from different data types, like audio, video, and images, in addition to text. This technology is enabling search and content creation tools to become more seamless and intuitive and integrate more easily into other applications we already use. For example, iPhones can now figure out who and what objects are in your photographs because they can process images, metadata text, and search data. Similar to how a human can look at a photo and identify what’s in it, multimodals enable that same characteristic.4. AI in science and health careBesides AI’s influence in the business workplace, AI tools have great potential in science and health care. Researchers, such as those at Microsoft, are now using AI to build tools to predict weather, estimate carbon emissions, and enable sustainable farming practices [3]. This trend aims to address and mitigate the effects of climate change. Chatbots are being deployed in agriculture and health care, to help farmers identify a type of weed and to help medical professionals diagnose patients. While the accuracy of this AI is in progress, these steps can accelerate scientific discoveries and medical breakthroughs.AI in computer science: AI has become an in-demand skill for computer science professionals. You can get ahead of the curve by learning to leverage an AI coding partner for efficiency with Microsoft's Copilot for Software Development Specialization:5. Regulation and ethicsWith the proliferation of AI worldwide, the trend of\u001b[00m\n",
      "\n",
      "\n",
      "\u001b[1m\u001b[95m# Agent:\u001b[00m \u001b[1m\u001b[92m테크 트렌드 연구원\u001b[00m\n",
      "\u001b[95m## Final Answer:\u001b[00m \u001b[92m\n",
      "2024년 AI 업계에서의 최신 기술 동향은 크게 세 가지로 요약할 수 있습니다. 이들은 생성적 AI, 다중 모달 AI, 그리고 AI의 규제 및 윤리적 측면입니다. 이 기술들은 각각의 중요성을 지니며, 현대 사회와 비즈니스 환경에서 점점 더 많은 영향을 미치고 있습니다.\n",
      "\n",
      "1. **생성적 AI(Generative AI)**  \n",
      "   생성적 AI는 2024년 AI 트렌드 중 가장 두드러진 기술로, 텍스트, 이미지, 음악 등 다양한 콘텐츠를 생성하는 데 사용됩니다. 이러한 기술은 비즈니스 팀들이 콘텐츠 제작을 자동화하고, 창의적인 작업의 효율성을 높이는데 기여하고 있습니다. 생성적 AI의 민주화는 비전문가들도 쉽게 접근할 수 있도록 하여, 기업의 생산성을 극대화하고 있습니다. 이는 단순히 작업을 자동화하는 것을 넘어, 창의성 및 인간의 감정적 지능을 활용할 수 있는 공간을 만들어 줍니다.\n",
      "\n",
      "2. **다중 모달 AI(Multimodal AI)**  \n",
      "   다중 모달 AI는 텍스트 뿐만 아니라 이미지, 오디오, 비디오 등 다양한 형태의 데이터를 처리할 수 있는 기술입니다. 이러한 접근 방식은 사용자가 더 직관적으로 정보를 검색하고 생성할 수 있게 해줍니다. 예를 들어, 스마트폰에서 사진 속 인물이나 사물을 인식하는 기능은 다중 모달 AI의 대표적인 사례입니다. 이는 사용자 경험을 향상시키고, 다양한 분야에서의 응용 가능성을 확대하는 데 중요한 역할을 하고 있습니다.\n",
      "\n",
      "3. **AI의 규제 및 윤리적 측면**  \n",
      "   AI 기술의 발전과 함께, 그에 따른 규제 및 윤리적 고려사항도 점점 중요해지고 있습니다. AI 시스템이 사회에 미치는 영향이 커짐에 따라, AI의 사용과 관련된 법적, 윤리적 기준을 마련하는 것이 필수적입니다. 이는 기술이 사회에 긍정적인 영향을 미칠 수 있도록 보장하며, 개인 정보 보호 및 데이터 안전성을 강화하는 데 기여합니다.\n",
      "\n",
      "결론적으로, 2024년 AI 업계의 주요 기술 동향은 생성적 AI, 다중 모달 AI, 그리고 윤리적 규제의 필요성으로 요약될 수 있으며, 이러한 기술들은 앞으로의 비즈니스와 사회에 큰 변화를 가져올 것으로 기대됩니다.\u001b[00m\n",
      "\n",
      "\n",
      "\u001b[1m\u001b[95m# Agent:\u001b[00m \u001b[1m\u001b[92m뉴스레터 작성자\u001b[00m\n",
      "\u001b[95m## Task:\u001b[00m \u001b[92m테크 트렌드 연구원의 요약을 바탕으로 AI 산업에 대한 매력적인 테크 뉴스레터를 작성하세요.\n",
      "    테크 뉴스레터이므로 전문적인 용어를 사용해도 괜찮습니다.\u001b[00m\n",
      "\n",
      "\n",
      "\u001b[1m\u001b[95m# Agent:\u001b[00m \u001b[1m\u001b[92m뉴스레터 작성자\u001b[00m\n",
      "\u001b[95m## Final Answer:\u001b[00m \u001b[92m\n",
      "# 최신 AI 기술 트렌드 뉴스레터 (2024년 11월)\n",
      "\n",
      "안녕하세요, AI 테크 팬 여러분! 2024년의 AI 세계는 정말 흥미진진한 변화로 가득 차 있습니다. 오늘은 그 중에서도 세 가지 주요 트렌드에 대해 소개해 드릴게요. 준비되셨나요? 그럼 시작해볼까요!\n",
      "\n",
      "## 🌟 생성적 AI의 혁신적 진화  \n",
      "2024년, 생성적 AI는 마치 예술가처럼 다양한 콘텐츠를 창조하는 데 큰 역할을 하고 있습니다. 텍스트, 이미지, 음악 등 상상 가능한 모든 형태의 콘텐츠를 생성할 수 있는 이 기술은 비즈니스 팀들에게 획기적인 도구가 되고 있습니다. 이제 비전문가들도 손쉽게 콘텐츠를 만들 수 있는 시대가 열렸죠. 이는 단순한 자동화를 넘어, 창의성과 감정적 지능까지 결합하여 팀의 생산성을 극대화하고 있습니다. 여러분도 이 새로운 창작 도구를 활용해 보세요!\n",
      "\n",
      "## 🎨 다중 모달 AI의 포괄적 접근  \n",
      "AI의 미래는 다중 모달 AI와 함께 합니다! 이제 우리는 텍스트뿐만 아니라 이미지, 오디오, 비디오 등 다양한 데이터를 동시에 처리할 수 있는 시대에 접어들었습니다. 이 기술 덕분에 스마트폰에서 사진 속 인물이나 사물을 인식하는 기능을 경험하게 되었죠. 다중 모달 AI는 사용자 경험을 한층 더 직관적으로 만들어 주며, 다양한 분야에서의 응용 가능성을 무한히 확장하고 있습니다. 여러분도 이 혁신적인 기술을 통해 더욱 편리한 삶을 누려보세요!\n",
      "\n",
      "## 🔍 AI의 규제 및 윤리적 고려  \n",
      "하지만! 기술이 발전함에 따라 우리는 그에 따른 책임도 잊지 말아야 합니다. AI 시스템이 우리 사회에 미치는 영향이 커짐에 따라, AI의 사용에 대한 법적 및 윤리적 기준을 마련하는 것이 필수적입니다. 이러한 규제는 기술이 사회에 긍정적인 영향을 미칠 수 있도록 보장하고, 개인 정보 보호 및 데이터 안전성을 강화하는 데 큰 역할을 합니다. 여러분도 이러한 논의에 관심을 가져보세요!\n",
      "\n",
      "## 🚀 결론: 비즈니스와 사회의 변화를 이끄는 AI  \n",
      "결론적으로, 2024년 AI 업계의 주요 기술 동향은 생성적 AI, 다중 모달 AI, 그리고 윤리적 규제의 필요성으로 요약됩니다. 이러한 기술들은 앞으로의 비즈니스와 사회에 큰 변화를 가져올 것으로 기대됩니다. AI의 미래는 여러분의 손에 달려 있습니다. 함께 혁신의 여정을 떠나봅시다!\n",
      "\n",
      "이상으로 2024년 11월 AI 테크 뉴스레터를 마칩니다. 다음 호에서 더 흥미로운 소식으로 찾아뵐게요!\u001b[00m\n",
      "\n",
      "\n"
     ]
    }
   ],
   "source": [
    "result = crew.kickoff()"
   ]
  },
  {
   "cell_type": "code",
   "execution_count": null,
   "metadata": {},
   "outputs": [],
   "source": []
  },
  {
   "cell_type": "code",
   "execution_count": null,
   "metadata": {},
   "outputs": [],
   "source": []
  }
 ],
 "metadata": {
  "kernelspec": {
   "display_name": "Python 3",
   "language": "python",
   "name": "python3"
  },
  "language_info": {
   "codemirror_mode": {
    "name": "ipython",
    "version": 3
   },
   "file_extension": ".py",
   "mimetype": "text/x-python",
   "name": "python",
   "nbconvert_exporter": "python",
   "pygments_lexer": "ipython3",
   "version": "3.11.10"
  }
 },
 "nbformat": 4,
 "nbformat_minor": 2
}
